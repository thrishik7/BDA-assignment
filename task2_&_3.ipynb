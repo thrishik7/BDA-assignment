{
 "cells": [
  {
   "cell_type": "code",
   "execution_count": 1,
   "metadata": {},
   "outputs": [],
   "source": [
    "##Linear Regression Classifier\n",
    "\n",
    "#importing all the packages\n",
    "import numpy as np \n",
    "import pandas as pd \n",
    "import seaborn as sns\n",
    "import matplotlib.pyplot as plt\n",
    "from statsmodels.stats.outliers_influence import variance_inflation_factor\n",
    "from sklearn.model_selection import train_test_split\n",
    "from sklearn.linear_model import LinearRegression\n",
    "from sklearn.metrics import mean_squared_error,r2_score\n",
    "from sklearn.metrics import confusion_matrix\n",
    "from sklearn import svm\n",
    "from sklearn import metrics\n",
    "from sklearn.linear_model import LogisticRegression\n",
    "from sklearn.naive_bayes import BernoulliNB\n",
    "from sklearn.naive_bayes import GaussianNB\n",
    "from sklearn.naive_bayes import MultinomialNB\n",
    "\n",
    "\n",
    "import os\n",
    "\n",
    "#getting the directory\n",
    "THIS_FOLDER = os.path.abspath('')\n",
    "\n",
    "\n",
    "#setting the training and testing dataset path\n",
    "class Dataset:\n",
    "  train=os.path.join(THIS_FOLDER, 'wineQualityRed_train.csv')\n",
    "  test=os.path.join(THIS_FOLDER, 'wineQualityRed_test.csv')\n",
    "\n",
    "#declaring features\n",
    "fields=[\"fixed acidity\",\"volatile acidity\",\"citric acid\",\"residual sugar\",\"chlorides\",\"free sulfur dioxide\",\"total sulfur dioxide\",\"density\",\"pH\",\"sulphates\",\"alcohol\",\"quality\"]\n",
    "fields1=[\"fixed acidity\",\"volatile acidity\",\"citric acid\",\"residual sugar\",\"chlorides\",\"free sulfur dioxide\",\"total sulfur dioxide\",\"density\",\"pH\",\"sulphates\",\"alcohol\"]"
   ]
  },
  {
   "cell_type": "code",
   "execution_count": 2,
   "metadata": {},
   "outputs": [
    {
     "name": "stdout",
     "output_type": "stream",
     "text": [
      "X_TRAINING DATA:\n"
     ]
    },
    {
     "data": {
      "text/html": [
       "<div>\n",
       "<style scoped>\n",
       "    .dataframe tbody tr th:only-of-type {\n",
       "        vertical-align: middle;\n",
       "    }\n",
       "\n",
       "    .dataframe tbody tr th {\n",
       "        vertical-align: top;\n",
       "    }\n",
       "\n",
       "    .dataframe thead th {\n",
       "        text-align: right;\n",
       "    }\n",
       "</style>\n",
       "<table border=\"1\" class=\"dataframe\">\n",
       "  <thead>\n",
       "    <tr style=\"text-align: right;\">\n",
       "      <th></th>\n",
       "      <th>fixed acidity</th>\n",
       "      <th>volatile acidity</th>\n",
       "      <th>citric acid</th>\n",
       "      <th>residual sugar</th>\n",
       "      <th>chlorides</th>\n",
       "      <th>free sulfur dioxide</th>\n",
       "      <th>total sulfur dioxide</th>\n",
       "      <th>density</th>\n",
       "      <th>pH</th>\n",
       "      <th>sulphates</th>\n",
       "      <th>alcohol</th>\n",
       "    </tr>\n",
       "  </thead>\n",
       "  <tbody>\n",
       "    <tr>\n",
       "      <th>0</th>\n",
       "      <td>10.6</td>\n",
       "      <td>0.28</td>\n",
       "      <td>0.39</td>\n",
       "      <td>15.5</td>\n",
       "      <td>0.069</td>\n",
       "      <td>6.0</td>\n",
       "      <td>23.0</td>\n",
       "      <td>1.0026</td>\n",
       "      <td>3.12</td>\n",
       "      <td>0.66</td>\n",
       "      <td>9.2</td>\n",
       "    </tr>\n",
       "    <tr>\n",
       "      <th>1</th>\n",
       "      <td>9.4</td>\n",
       "      <td>0.30</td>\n",
       "      <td>0.56</td>\n",
       "      <td>2.8</td>\n",
       "      <td>0.080</td>\n",
       "      <td>6.0</td>\n",
       "      <td>17.0</td>\n",
       "      <td>0.9964</td>\n",
       "      <td>3.15</td>\n",
       "      <td>0.92</td>\n",
       "      <td>11.7</td>\n",
       "    </tr>\n",
       "    <tr>\n",
       "      <th>2</th>\n",
       "      <td>10.6</td>\n",
       "      <td>0.36</td>\n",
       "      <td>0.59</td>\n",
       "      <td>2.2</td>\n",
       "      <td>0.152</td>\n",
       "      <td>6.0</td>\n",
       "      <td>18.0</td>\n",
       "      <td>0.9986</td>\n",
       "      <td>3.04</td>\n",
       "      <td>1.05</td>\n",
       "      <td>9.4</td>\n",
       "    </tr>\n",
       "    <tr>\n",
       "      <th>3</th>\n",
       "      <td>10.6</td>\n",
       "      <td>0.36</td>\n",
       "      <td>0.60</td>\n",
       "      <td>2.2</td>\n",
       "      <td>0.152</td>\n",
       "      <td>7.0</td>\n",
       "      <td>18.0</td>\n",
       "      <td>0.9986</td>\n",
       "      <td>3.04</td>\n",
       "      <td>1.06</td>\n",
       "      <td>9.4</td>\n",
       "    </tr>\n",
       "    <tr>\n",
       "      <th>4</th>\n",
       "      <td>10.6</td>\n",
       "      <td>0.44</td>\n",
       "      <td>0.68</td>\n",
       "      <td>4.1</td>\n",
       "      <td>0.114</td>\n",
       "      <td>6.0</td>\n",
       "      <td>24.0</td>\n",
       "      <td>0.9970</td>\n",
       "      <td>3.06</td>\n",
       "      <td>0.66</td>\n",
       "      <td>13.4</td>\n",
       "    </tr>\n",
       "  </tbody>\n",
       "</table>\n",
       "</div>"
      ],
      "text/plain": [
       "   fixed acidity  volatile acidity  citric acid  residual sugar  chlorides  \\\n",
       "0           10.6              0.28         0.39            15.5      0.069   \n",
       "1            9.4              0.30         0.56             2.8      0.080   \n",
       "2           10.6              0.36         0.59             2.2      0.152   \n",
       "3           10.6              0.36         0.60             2.2      0.152   \n",
       "4           10.6              0.44         0.68             4.1      0.114   \n",
       "\n",
       "   free sulfur dioxide  total sulfur dioxide  density    pH  sulphates  \\\n",
       "0                  6.0                  23.0   1.0026  3.12       0.66   \n",
       "1                  6.0                  17.0   0.9964  3.15       0.92   \n",
       "2                  6.0                  18.0   0.9986  3.04       1.05   \n",
       "3                  7.0                  18.0   0.9986  3.04       1.06   \n",
       "4                  6.0                  24.0   0.9970  3.06       0.66   \n",
       "\n",
       "   alcohol  \n",
       "0      9.2  \n",
       "1     11.7  \n",
       "2      9.4  \n",
       "3      9.4  \n",
       "4     13.4  "
      ]
     },
     "execution_count": 2,
     "metadata": {},
     "output_type": "execute_result"
    }
   ],
   "source": [
    "#X_TRAINING DATASET\n",
    "train_wine = pd.read_csv(Dataset.train, delimiter=';', header=None, skiprows=1,  names=fields)\n",
    "\n",
    "x_train=train_wine[fields1]\n",
    "\n",
    "print(\"X_TRAINING DATA:\")\n",
    "x_train.head(5)"
   ]
  },
  {
   "cell_type": "code",
   "execution_count": 3,
   "metadata": {},
   "outputs": [
    {
     "name": "stdout",
     "output_type": "stream",
     "text": [
      "***************************************************************************************************\n",
      "Y_TRAINING DATA:\n"
     ]
    },
    {
     "data": {
      "text/plain": [
       "0    0\n",
       "1    1\n",
       "2    0\n",
       "3    0\n",
       "4    0\n",
       "Name: quality, dtype: int64"
      ]
     },
     "execution_count": 3,
     "metadata": {},
     "output_type": "execute_result"
    }
   ],
   "source": [
    "print(\"***************************************************************************************************\")\n",
    "# CLASSIFING quality 0-bad AND 1-good and forming Y_TRAINING DATASET\n",
    "y_train = train_wine[\"quality\"].apply(lambda  q:0 if q<7 else 1)\n",
    "\n",
    "print(\"Y_TRAINING DATA:\")\n",
    "y_train.head(5)"
   ]
  },
  {
   "cell_type": "code",
   "execution_count": 4,
   "metadata": {},
   "outputs": [
    {
     "name": "stdout",
     "output_type": "stream",
     "text": [
      "X_TESTING DATA:\n"
     ]
    },
    {
     "data": {
      "text/html": [
       "<div>\n",
       "<style scoped>\n",
       "    .dataframe tbody tr th:only-of-type {\n",
       "        vertical-align: middle;\n",
       "    }\n",
       "\n",
       "    .dataframe tbody tr th {\n",
       "        vertical-align: top;\n",
       "    }\n",
       "\n",
       "    .dataframe thead th {\n",
       "        text-align: right;\n",
       "    }\n",
       "</style>\n",
       "<table border=\"1\" class=\"dataframe\">\n",
       "  <thead>\n",
       "    <tr style=\"text-align: right;\">\n",
       "      <th></th>\n",
       "      <th>fixed acidity</th>\n",
       "      <th>volatile acidity</th>\n",
       "      <th>citric acid</th>\n",
       "      <th>residual sugar</th>\n",
       "      <th>chlorides</th>\n",
       "      <th>free sulfur dioxide</th>\n",
       "      <th>total sulfur dioxide</th>\n",
       "      <th>density</th>\n",
       "      <th>pH</th>\n",
       "      <th>sulphates</th>\n",
       "      <th>alcohol</th>\n",
       "    </tr>\n",
       "  </thead>\n",
       "  <tbody>\n",
       "    <tr>\n",
       "      <th>0</th>\n",
       "      <td>7.4</td>\n",
       "      <td>0.70</td>\n",
       "      <td>0.00</td>\n",
       "      <td>1.9</td>\n",
       "      <td>0.076</td>\n",
       "      <td>11.0</td>\n",
       "      <td>34</td>\n",
       "      <td>0.9978</td>\n",
       "      <td>3.51</td>\n",
       "      <td>0.56</td>\n",
       "      <td>9.4</td>\n",
       "    </tr>\n",
       "    <tr>\n",
       "      <th>1</th>\n",
       "      <td>7.8</td>\n",
       "      <td>0.88</td>\n",
       "      <td>0.00</td>\n",
       "      <td>2.6</td>\n",
       "      <td>0.098</td>\n",
       "      <td>25.0</td>\n",
       "      <td>67</td>\n",
       "      <td>0.9968</td>\n",
       "      <td>3.20</td>\n",
       "      <td>0.68</td>\n",
       "      <td>9.8</td>\n",
       "    </tr>\n",
       "    <tr>\n",
       "      <th>2</th>\n",
       "      <td>7.8</td>\n",
       "      <td>0.76</td>\n",
       "      <td>0.04</td>\n",
       "      <td>2.3</td>\n",
       "      <td>0.092</td>\n",
       "      <td>15.0</td>\n",
       "      <td>54</td>\n",
       "      <td>0.9970</td>\n",
       "      <td>3.26</td>\n",
       "      <td>0.65</td>\n",
       "      <td>9.8</td>\n",
       "    </tr>\n",
       "    <tr>\n",
       "      <th>3</th>\n",
       "      <td>11.2</td>\n",
       "      <td>0.28</td>\n",
       "      <td>0.56</td>\n",
       "      <td>1.9</td>\n",
       "      <td>0.075</td>\n",
       "      <td>17.0</td>\n",
       "      <td>60</td>\n",
       "      <td>0.9980</td>\n",
       "      <td>3.16</td>\n",
       "      <td>0.58</td>\n",
       "      <td>9.8</td>\n",
       "    </tr>\n",
       "    <tr>\n",
       "      <th>4</th>\n",
       "      <td>7.4</td>\n",
       "      <td>0.70</td>\n",
       "      <td>0.00</td>\n",
       "      <td>1.9</td>\n",
       "      <td>0.076</td>\n",
       "      <td>11.0</td>\n",
       "      <td>34</td>\n",
       "      <td>0.9978</td>\n",
       "      <td>3.51</td>\n",
       "      <td>0.56</td>\n",
       "      <td>9.4</td>\n",
       "    </tr>\n",
       "  </tbody>\n",
       "</table>\n",
       "</div>"
      ],
      "text/plain": [
       "   fixed acidity  volatile acidity  citric acid  residual sugar  chlorides  \\\n",
       "0            7.4              0.70         0.00             1.9      0.076   \n",
       "1            7.8              0.88         0.00             2.6      0.098   \n",
       "2            7.8              0.76         0.04             2.3      0.092   \n",
       "3           11.2              0.28         0.56             1.9      0.075   \n",
       "4            7.4              0.70         0.00             1.9      0.076   \n",
       "\n",
       "   free sulfur dioxide  total sulfur dioxide  density    pH  sulphates  \\\n",
       "0                 11.0                    34   0.9978  3.51       0.56   \n",
       "1                 25.0                    67   0.9968  3.20       0.68   \n",
       "2                 15.0                    54   0.9970  3.26       0.65   \n",
       "3                 17.0                    60   0.9980  3.16       0.58   \n",
       "4                 11.0                    34   0.9978  3.51       0.56   \n",
       "\n",
       "   alcohol  \n",
       "0      9.4  \n",
       "1      9.8  \n",
       "2      9.8  \n",
       "3      9.8  \n",
       "4      9.4  "
      ]
     },
     "execution_count": 4,
     "metadata": {},
     "output_type": "execute_result"
    }
   ],
   "source": [
    "#similarly for testing data\n",
    "\n",
    "#X_TESTING DATASET\n",
    "test_wine = pd.read_csv(Dataset.test, delimiter=';', header=None, skiprows=1,  names=fields)\n",
    "x_test=test_wine[fields1]\n",
    "print(\"X_TESTING DATA:\")\n",
    "x_test.head(5)"
   ]
  },
  {
   "cell_type": "code",
   "execution_count": 5,
   "metadata": {},
   "outputs": [
    {
     "name": "stdout",
     "output_type": "stream",
     "text": [
      "*********************************************************************************************************\n",
      "Y_TESTING DATA:\n"
     ]
    },
    {
     "data": {
      "text/plain": [
       "0    0\n",
       "1    0\n",
       "2    0\n",
       "3    0\n",
       "4    0\n",
       "5    0\n",
       "6    0\n",
       "7    1\n",
       "8    1\n",
       "9    0\n",
       "Name: quality, dtype: int64"
      ]
     },
     "execution_count": 5,
     "metadata": {},
     "output_type": "execute_result"
    }
   ],
   "source": [
    "print(\"*********************************************************************************************************\") \n",
    "\n",
    "#Y_TESTING DATASET\n",
    "y_test = test_wine[\"quality\"].apply(lambda  q:0 if q<7 else 1)\n",
    "print(\"Y_TESTING DATA:\")\n",
    "y_test.head(10)"
   ]
  },
  {
   "cell_type": "code",
   "execution_count": 17,
   "metadata": {},
   "outputs": [
    {
     "name": "stdout",
     "output_type": "stream",
     "text": [
      "*********************************LINEAR REGRESSION CLASSIFIER*********************************************\n",
      "Y_PREDICTION DATA:(first 10 values)\n"
     ]
    },
    {
     "data": {
      "text/plain": [
       "array([-0.12480267, -0.04486957, -0.02591986,  0.17223449, -0.12480267,\n",
       "       -0.12215259, -0.07652599,  0.01531073, -0.01059442,  0.22524849])"
      ]
     },
     "execution_count": 17,
     "metadata": {},
     "output_type": "execute_result"
    }
   ],
   "source": [
    "#declaring linear regression model \n",
    "\n",
    "print(\"*********************************LINEAR REGRESSION CLASSIFIER*********************************************\")\n",
    "l_r= LinearRegression()\n",
    "\n",
    "# training the model with X_TRAINING AND Y_TRAINING\n",
    "l_r.fit(x_train, y_train)\n",
    "\n",
    "#Getting Y_PREDICTION\n",
    "pred1=l_r.predict(x_test)\n",
    "\n",
    "print(\"Y_PREDICTION DATA:(first 10 values)\")\n",
    "pred1[:10]"
   ]
  },
  {
   "cell_type": "code",
   "execution_count": 18,
   "metadata": {},
   "outputs": [
    {
     "name": "stdout",
     "output_type": "stream",
     "text": [
      "mean:  0.10580178551233062\n"
     ]
    }
   ],
   "source": [
    "#MEAN OF THE Y_PREDICTION\n",
    "mid = np.mean(pred1)\n",
    "\n",
    "print(\"mean: \", mid)"
   ]
  },
  {
   "cell_type": "code",
   "execution_count": 19,
   "metadata": {},
   "outputs": [
    {
     "name": "stdout",
     "output_type": "stream",
     "text": [
      "Y_PREDICTION DATA after classificaion:(first 10 values)\n",
      "[0, 0, 0, 1, 0, 0, 0, 0, 0, 1]\n"
     ]
    }
   ],
   "source": [
    "pred= []\n",
    "\n",
    "\n",
    "#Classifing y_prediction based on the mean value\n",
    "for p in pred1 :\n",
    "    if p < mid:\n",
    "        pred.append(0)\n",
    "    elif p > mid:\n",
    "        pred.append(1)\n",
    "        \n",
    "print(\"Y_PREDICTION DATA after classificaion:(first 10 values)\")\n",
    "print(pred[:10])\n",
    "        "
   ]
  },
  {
   "cell_type": "code",
   "execution_count": 20,
   "metadata": {},
   "outputs": [
    {
     "name": "stdout",
     "output_type": "stream",
     "text": [
      "Confusion Matrix : \n",
      " [[280 146]\n",
      " [  3  51]]\n",
      "Accuracy :  0.6895833333333333\n",
      "Precision :  0.9893992932862191\n",
      "Recall :  0.8459214501510574\n",
      "f measure:  0.9120521172638437\n",
      "Sensitivity :  0.6572769953051644\n",
      "Specificity :  0.9444444444444444\n"
     ]
    }
   ],
   "source": [
    "#Getting the confusion matrix\n",
    "cm1 = confusion_matrix(y_test,pred)\n",
    "print('Confusion Matrix : \\n', cm1)\n",
    "#prints [[TP,FN],[FP,TN]]\n",
    "\n",
    "total1=sum(sum(cm1))\n",
    "\n",
    "\n",
    "accuracy1=(cm1[0,0]+cm1[1,1])/total1\n",
    "print ('Accuracy : ', accuracy1)\n",
    "\n",
    "precision1=(cm1[0,0])/(cm1[0,0]+cm1[1,0])\n",
    "print ('Precision : ', precision1)\n",
    "\n",
    "\n",
    "recall1=(cm1[0,0])/(cm1[0,0]+cm1[1,1])\n",
    "print ('Recall : ', recall1) \n",
    "\n",
    "f_measure=(2*recall1*precision1)/(precision1+recall1)\n",
    "print('f measure: ', f_measure)\n",
    "\n",
    "sensitivity1 = cm1[0,0]/(cm1[0,0]+cm1[0,1])\n",
    "print('Sensitivity : ', sensitivity1 )\n",
    "\n",
    "specificity1 = cm1[1,1]/(cm1[1,0]+cm1[1,1])\n",
    "print('Specificity : ', specificity1)"
   ]
  },
  {
   "cell_type": "code",
   "execution_count": 9,
   "metadata": {},
   "outputs": [
    {
     "name": "stdout",
     "output_type": "stream",
     "text": [
      "******************************LOGISTIC REGRESSION CLASSIFIER**************************************\n",
      "Y_PREDICTION:(first 10 values)\n",
      "[0 0 0 0 0 0 0 0 0 0]\n"
     ]
    },
    {
     "name": "stderr",
     "output_type": "stream",
     "text": [
      "/home/thrishik/.local/lib/python3.6/site-packages/sklearn/linear_model/_logistic.py:764: ConvergenceWarning: lbfgs failed to converge (status=1):\n",
      "STOP: TOTAL NO. of ITERATIONS REACHED LIMIT.\n",
      "\n",
      "Increase the number of iterations (max_iter) or scale the data as shown in:\n",
      "    https://scikit-learn.org/stable/modules/preprocessing.html\n",
      "Please also refer to the documentation for alternative solver options:\n",
      "    https://scikit-learn.org/stable/modules/linear_model.html#logistic-regression\n",
      "  extra_warning_msg=_LOGISTIC_SOLVER_CONVERGENCE_MSG)\n"
     ]
    }
   ],
   "source": [
    "##Logistic Regression Classifier\n",
    "\n",
    "print(\"******************************LOGISTIC REGRESSION CLASSIFIER**************************************\")\n",
    "#declaring logistic regression model \n",
    "logisticRegr = LogisticRegression()\n",
    "\n",
    "#training the model with X_TRAINING AND Y_TRAINING\n",
    "logisticRegr.fit(x_train,y_train)\n",
    "\n",
    "#Y_PREDICTION\n",
    "pred=logisticRegr.predict(x_test)\n",
    "\n",
    "print(\"Y_PREDICTION:(first 10 values)\")\n",
    "print(pred[:10])"
   ]
  },
  {
   "cell_type": "code",
   "execution_count": 10,
   "metadata": {},
   "outputs": [
    {
     "name": "stdout",
     "output_type": "stream",
     "text": [
      "Confusion Matrix : \n",
      " [[414  12]\n",
      " [ 43  11]]\n",
      "Accuracy :  0.8854166666666666\n",
      "Precision :  0.9059080962800875\n",
      "Recall :  0.9741176470588235\n",
      "f measure:  0.9387755102040816\n",
      "Sensitivity :  0.971830985915493\n",
      "Specificity :  0.2037037037037037\n"
     ]
    }
   ],
   "source": [
    "cm1 = confusion_matrix(y_test,pred)\n",
    "print('Confusion Matrix : \\n', cm1)\n",
    "\n",
    "total1=sum(sum(cm1))\n",
    "accuracy1=(cm1[0,0]+cm1[1,1])/total1\n",
    "print ('Accuracy : ', accuracy1)\n",
    "\n",
    "precision1=(cm1[0,0])/(cm1[0,0]+cm1[1,0])\n",
    "print ('Precision : ', precision1)\n",
    "\n",
    "\n",
    "recall1=(cm1[0,0])/(cm1[0,0]+cm1[1,1])\n",
    "print ('Recall : ', recall1) \n",
    "\n",
    "f_measure=(2*recall1*precision1)/(precision1+recall1)\n",
    "print('f measure: ', f_measure)\n",
    "\n",
    "sensitivity1 = cm1[0,0]/(cm1[0,0]+cm1[0,1])\n",
    "print('Sensitivity : ', sensitivity1 )\n",
    "\n",
    "specificity1 = cm1[1,1]/(cm1[1,0]+cm1[1,1])\n",
    "print('Specificity : ', specificity1)"
   ]
  },
  {
   "cell_type": "code",
   "execution_count": 11,
   "metadata": {},
   "outputs": [
    {
     "name": "stdout",
     "output_type": "stream",
     "text": [
      "****************************************SVM CLASSIFIER************************************************\n",
      "Y_PREDICTION:(first 10 values)\n",
      "[0 0 0 0 0 0 0 0 0 0]\n"
     ]
    }
   ],
   "source": [
    "##SVM Classifier\n",
    "print(\"****************************************SVM CLASSIFIER************************************************\")\n",
    "\n",
    "#declaring svm model \n",
    "cls=svm.SVC(kernel=\"linear\")\n",
    "\n",
    "#training the model with X_TRAINING AND Y_TRAINING\n",
    "cls.fit(x_train,y_train)\n",
    "\n",
    "#Y_PREDICTION\n",
    "pred=cls.predict(x_test)\n",
    "\n",
    "\n",
    "print(\"Y_PREDICTION:(first 10 values)\")\n",
    "print(pred[:10])"
   ]
  },
  {
   "cell_type": "code",
   "execution_count": 21,
   "metadata": {},
   "outputs": [
    {
     "name": "stdout",
     "output_type": "stream",
     "text": [
      "Confusion Matrix : \n",
      " [[280 146]\n",
      " [  3  51]]\n",
      "Accuracy :  0.6895833333333333\n",
      "Precision :  0.9893992932862191\n",
      "Recall :  0.8459214501510574\n",
      "f measure:  0.9120521172638437\n",
      "Sensitivity :  0.6572769953051644\n",
      "Specificity :  0.9444444444444444\n"
     ]
    }
   ],
   "source": [
    "cm1 = confusion_matrix(y_test,pred)\n",
    "print('Confusion Matrix : \\n', cm1)\n",
    "\n",
    "total1=sum(sum(cm1))\n",
    "accuracy1=(cm1[0,0]+cm1[1,1])/total1\n",
    "print ('Accuracy : ', accuracy1)\n",
    "\n",
    "precision1=(cm1[0,0])/(cm1[0,0]+cm1[1,0])\n",
    "print ('Precision : ', precision1)\n",
    "\n",
    "\n",
    "recall1=(cm1[0,0])/(cm1[0,0]+cm1[1,1])\n",
    "print ('Recall : ', recall1) \n",
    "\n",
    "f_measure=(2*recall1*precision1)/(precision1+recall1)\n",
    "print('f measure: ', f_measure)\n",
    "\n",
    "sensitivity1 = cm1[0,0]/(cm1[0,0]+cm1[0,1])\n",
    "print('Sensitivity : ', sensitivity1 )\n",
    "\n",
    "specificity1 = cm1[1,1]/(cm1[1,0]+cm1[1,1])\n",
    "print('Specificity : ', specificity1)"
   ]
  },
  {
   "cell_type": "code",
   "execution_count": 22,
   "metadata": {},
   "outputs": [
    {
     "name": "stdout",
     "output_type": "stream",
     "text": [
      "*****************************************NAIVE BAYES CLASSIFIER******************************************\n",
      "BernoulliNB(binarize=True)\n",
      "Y_PREDICTION:(first 10 values)\n",
      "[0 0 0 0 0 0 0 0 0 0]\n"
     ]
    }
   ],
   "source": [
    "##Naive Bayes Classifier\n",
    "\n",
    "print(\"*****************************************NAIVE BAYES CLASSIFIER******************************************\")\n",
    "#declaring Naive Bayes model\n",
    "BernNB= BernoulliNB(binarize=True)\n",
    "\n",
    "#training the model with X_TRAINING AND Y_TRAINING\n",
    "BernNB.fit(x_train,y_train)\n",
    "print(BernNB)\n",
    "#Y_PREDICTION\n",
    "y_pred=BernNB.predict(x_test)\n",
    "\n",
    "\n",
    "print(\"Y_PREDICTION:(first 10 values)\")\n",
    "print(y_pred[:10])"
   ]
  },
  {
   "cell_type": "code",
   "execution_count": 23,
   "metadata": {},
   "outputs": [
    {
     "name": "stdout",
     "output_type": "stream",
     "text": [
      "Confusion Matrix : \n",
      " [[426   0]\n",
      " [ 54   0]]\n",
      "Accuracy :  0.8875\n",
      "Precision :  0.8875\n",
      "Recall :  1.0\n",
      "f measure:  0.9403973509933775\n",
      "Sensitivity :  1.0\n",
      "Specificity :  0.0\n"
     ]
    }
   ],
   "source": [
    "cm1 = confusion_matrix(y_test,y_pred)\n",
    "print('Confusion Matrix : \\n', cm1)\n",
    "\n",
    "total1=sum(sum(cm1))\n",
    "accuracy1=(cm1[0,0]+cm1[1,1])/total1\n",
    "print ('Accuracy : ', accuracy1)\n",
    "\n",
    "precision1=(cm1[0,0])/(cm1[0,0]+cm1[1,0])\n",
    "print ('Precision : ', precision1)\n",
    "\n",
    "\n",
    "recall1=(cm1[0,0])/(cm1[0,0]+cm1[1,1])\n",
    "print ('Recall : ', recall1) \n",
    "\n",
    "f_measure=(2*recall1*precision1)/(precision1+recall1)\n",
    "print('f measure: ', f_measure)\n",
    "\n",
    "sensitivity1 = cm1[0,0]/(cm1[0,0]+cm1[0,1])\n",
    "print('Sensitivity : ', sensitivity1 )\n",
    "\n",
    "specificity1 = cm1[1,1]/(cm1[1,0]+cm1[1,1])\n",
    "print('Specificity : ', specificity1)"
   ]
  },
  {
   "cell_type": "code",
   "execution_count": null,
   "metadata": {},
   "outputs": [],
   "source": []
  }
 ],
 "metadata": {
  "kernelspec": {
   "display_name": "Python 3",
   "language": "python",
   "name": "python3"
  },
  "language_info": {
   "codemirror_mode": {
    "name": "ipython",
    "version": 3
   },
   "file_extension": ".py",
   "mimetype": "text/x-python",
   "name": "python",
   "nbconvert_exporter": "python",
   "pygments_lexer": "ipython3",
   "version": "3.6.9"
  }
 },
 "nbformat": 4,
 "nbformat_minor": 4
}
